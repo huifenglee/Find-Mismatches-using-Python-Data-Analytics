{
 "cells": [
  {
   "cell_type": "markdown",
   "metadata": {},
   "source": [
    "In this notebook, I use a fictional dataset to demonstrate how to find the mismatches in the implementation dataset in comparion to the prescribed matching rules from a second dataset. This is also a problem I run into very often in Data Analytics. In the notebook, there are two datasets: the one is a large dataset in which two columns denote the implementation of the modelling requirements; the other is the requirement. The goal is to test whether the implementation in the two columns strictly follows the requirements prescribed."
   ]
  },
  {
   "cell_type": "code",
   "execution_count": 9,
   "metadata": {},
   "outputs": [],
   "source": [
    "import pandas as pd"
   ]
  },
  {
   "cell_type": "markdown",
   "metadata": {},
   "source": [
    "# 1. Import the two datasets (\"Assets\" and \"mapping\") from Excel file"
   ]
  },
  {
   "cell_type": "markdown",
   "metadata": {},
   "source": [
    "The Sheet \"Assets\" contains the implementation results of the assets modelling requirements for a fictional insurance company. The columns relevant for the testing are columns \"AssetCategory\" and \"ModelCategory\" as shown in the following cell. The goal of testing is to find whether the asset category for an asset is correctly mapped to the model category accroding to the mapping rules."
   ]
  },
  {
   "cell_type": "code",
   "execution_count": 10,
   "metadata": {},
   "outputs": [
    {
     "data": {
      "text/html": [
       "<div>\n",
       "<style scoped>\n",
       "    .dataframe tbody tr th:only-of-type {\n",
       "        vertical-align: middle;\n",
       "    }\n",
       "\n",
       "    .dataframe tbody tr th {\n",
       "        vertical-align: top;\n",
       "    }\n",
       "\n",
       "    .dataframe thead th {\n",
       "        text-align: right;\n",
       "    }\n",
       "</style>\n",
       "<table border=\"1\" class=\"dataframe\">\n",
       "  <thead>\n",
       "    <tr style=\"text-align: right;\">\n",
       "      <th></th>\n",
       "      <th>Security_ID</th>\n",
       "      <th>Country</th>\n",
       "      <th>Book_Value</th>\n",
       "      <th>Market_value</th>\n",
       "      <th>AssetCategory</th>\n",
       "      <th>ModelCategory</th>\n",
       "    </tr>\n",
       "  </thead>\n",
       "  <tbody>\n",
       "    <tr>\n",
       "      <th>0</th>\n",
       "      <td>a1</td>\n",
       "      <td>a</td>\n",
       "      <td>1.880320e+07</td>\n",
       "      <td>2.030746e+07</td>\n",
       "      <td>MBS</td>\n",
       "      <td>Bond</td>\n",
       "    </tr>\n",
       "    <tr>\n",
       "      <th>1</th>\n",
       "      <td>a2</td>\n",
       "      <td>a</td>\n",
       "      <td>1.253547e+07</td>\n",
       "      <td>1.353831e+07</td>\n",
       "      <td>Vorkauf</td>\n",
       "      <td>Bond</td>\n",
       "    </tr>\n",
       "    <tr>\n",
       "      <th>2</th>\n",
       "      <td>a3</td>\n",
       "      <td>a</td>\n",
       "      <td>2.776245e+07</td>\n",
       "      <td>2.859532e+07</td>\n",
       "      <td>Government</td>\n",
       "      <td>Bond</td>\n",
       "    </tr>\n",
       "    <tr>\n",
       "      <th>3</th>\n",
       "      <td>a4</td>\n",
       "      <td>a</td>\n",
       "      <td>2.776245e+07</td>\n",
       "      <td>2.859532e+07</td>\n",
       "      <td>Corporate</td>\n",
       "      <td>Bond</td>\n",
       "    </tr>\n",
       "    <tr>\n",
       "      <th>4</th>\n",
       "      <td>a5</td>\n",
       "      <td>a</td>\n",
       "      <td>1.388122e+07</td>\n",
       "      <td>1.429766e+07</td>\n",
       "      <td>Municipality</td>\n",
       "      <td>Bond</td>\n",
       "    </tr>\n",
       "    <tr>\n",
       "      <th>...</th>\n",
       "      <td>...</td>\n",
       "      <td>...</td>\n",
       "      <td>...</td>\n",
       "      <td>...</td>\n",
       "      <td>...</td>\n",
       "      <td>...</td>\n",
       "    </tr>\n",
       "    <tr>\n",
       "      <th>1140</th>\n",
       "      <td>e1141</td>\n",
       "      <td>e</td>\n",
       "      <td>2.299516e+03</td>\n",
       "      <td>1.606186e+04</td>\n",
       "      <td>Immobilien</td>\n",
       "      <td>Equity</td>\n",
       "    </tr>\n",
       "    <tr>\n",
       "      <th>1141</th>\n",
       "      <td>e1142</td>\n",
       "      <td>e</td>\n",
       "      <td>4.471628e+03</td>\n",
       "      <td>1.070791e+04</td>\n",
       "      <td>REITS</td>\n",
       "      <td>Equity</td>\n",
       "    </tr>\n",
       "    <tr>\n",
       "      <th>1142</th>\n",
       "      <td>e1143</td>\n",
       "      <td>e</td>\n",
       "      <td>2.202444e+03</td>\n",
       "      <td>1.253746e+04</td>\n",
       "      <td>DAX</td>\n",
       "      <td>Equity</td>\n",
       "    </tr>\n",
       "    <tr>\n",
       "      <th>1143</th>\n",
       "      <td>e1144</td>\n",
       "      <td>e</td>\n",
       "      <td>6.844400e+02</td>\n",
       "      <td>1.358225e+04</td>\n",
       "      <td>Swap</td>\n",
       "      <td>Derivative</td>\n",
       "    </tr>\n",
       "    <tr>\n",
       "      <th>1144</th>\n",
       "      <td>e1145</td>\n",
       "      <td>e</td>\n",
       "      <td>2.933314e+02</td>\n",
       "      <td>1.665460e+04</td>\n",
       "      <td>Swaption</td>\n",
       "      <td>Derivative</td>\n",
       "    </tr>\n",
       "  </tbody>\n",
       "</table>\n",
       "<p>1145 rows × 6 columns</p>\n",
       "</div>"
      ],
      "text/plain": [
       "     Security_ID Country    Book_Value  Market_value AssetCategory  \\\n",
       "0             a1       a  1.880320e+07  2.030746e+07           MBS   \n",
       "1             a2       a  1.253547e+07  1.353831e+07       Vorkauf   \n",
       "2             a3       a  2.776245e+07  2.859532e+07    Government   \n",
       "3             a4       a  2.776245e+07  2.859532e+07     Corporate   \n",
       "4             a5       a  1.388122e+07  1.429766e+07  Municipality   \n",
       "...          ...     ...           ...           ...           ...   \n",
       "1140       e1141       e  2.299516e+03  1.606186e+04    Immobilien   \n",
       "1141       e1142       e  4.471628e+03  1.070791e+04         REITS   \n",
       "1142       e1143       e  2.202444e+03  1.253746e+04           DAX   \n",
       "1143       e1144       e  6.844400e+02  1.358225e+04          Swap   \n",
       "1144       e1145       e  2.933314e+02  1.665460e+04      Swaption   \n",
       "\n",
       "     ModelCategory  \n",
       "0             Bond  \n",
       "1             Bond  \n",
       "2             Bond  \n",
       "3             Bond  \n",
       "4             Bond  \n",
       "...            ...  \n",
       "1140        Equity  \n",
       "1141        Equity  \n",
       "1142        Equity  \n",
       "1143    Derivative  \n",
       "1144    Derivative  \n",
       "\n",
       "[1145 rows x 6 columns]"
      ]
     },
     "execution_count": 10,
     "metadata": {},
     "output_type": "execute_result"
    }
   ],
   "source": [
    "assets=pd.read_excel(\"Data.xlsx\",sheet_name=\"Assets\")\n",
    "assets"
   ]
  },
  {
   "cell_type": "markdown",
   "metadata": {},
   "source": [
    "Import the table for the prescribed mapping requirements from the sheet \"mapping\" in the Excel file. We would like to find whether the asset category for an asset in the dataframe \"assets\" is correctly mapped to the model category accroding to the mapping rules specified in the dataframe \"mapping\" below."
   ]
  },
  {
   "cell_type": "code",
   "execution_count": 11,
   "metadata": {},
   "outputs": [
    {
     "data": {
      "text/html": [
       "<div>\n",
       "<style scoped>\n",
       "    .dataframe tbody tr th:only-of-type {\n",
       "        vertical-align: middle;\n",
       "    }\n",
       "\n",
       "    .dataframe tbody tr th {\n",
       "        vertical-align: top;\n",
       "    }\n",
       "\n",
       "    .dataframe thead th {\n",
       "        text-align: right;\n",
       "    }\n",
       "</style>\n",
       "<table border=\"1\" class=\"dataframe\">\n",
       "  <thead>\n",
       "    <tr style=\"text-align: right;\">\n",
       "      <th></th>\n",
       "      <th>AssetCategory</th>\n",
       "      <th>ModelCategory</th>\n",
       "    </tr>\n",
       "  </thead>\n",
       "  <tbody>\n",
       "    <tr>\n",
       "      <th>0</th>\n",
       "      <td>MBS</td>\n",
       "      <td>Bond</td>\n",
       "    </tr>\n",
       "    <tr>\n",
       "      <th>1</th>\n",
       "      <td>Vorkauf</td>\n",
       "      <td>Bond</td>\n",
       "    </tr>\n",
       "    <tr>\n",
       "      <th>2</th>\n",
       "      <td>Government</td>\n",
       "      <td>Bond</td>\n",
       "    </tr>\n",
       "    <tr>\n",
       "      <th>3</th>\n",
       "      <td>Corporate</td>\n",
       "      <td>Bond</td>\n",
       "    </tr>\n",
       "    <tr>\n",
       "      <th>4</th>\n",
       "      <td>Municipality</td>\n",
       "      <td>Bond</td>\n",
       "    </tr>\n",
       "    <tr>\n",
       "      <th>5</th>\n",
       "      <td>MNC</td>\n",
       "      <td>Bond</td>\n",
       "    </tr>\n",
       "    <tr>\n",
       "      <th>6</th>\n",
       "      <td>Superstate</td>\n",
       "      <td>Bond</td>\n",
       "    </tr>\n",
       "    <tr>\n",
       "      <th>7</th>\n",
       "      <td>Equity</td>\n",
       "      <td>Equity</td>\n",
       "    </tr>\n",
       "    <tr>\n",
       "      <th>8</th>\n",
       "      <td>ABS</td>\n",
       "      <td>Equity</td>\n",
       "    </tr>\n",
       "    <tr>\n",
       "      <th>9</th>\n",
       "      <td>Immobilien</td>\n",
       "      <td>Equity</td>\n",
       "    </tr>\n",
       "    <tr>\n",
       "      <th>10</th>\n",
       "      <td>REITS</td>\n",
       "      <td>Equity</td>\n",
       "    </tr>\n",
       "    <tr>\n",
       "      <th>11</th>\n",
       "      <td>DAX</td>\n",
       "      <td>Equity</td>\n",
       "    </tr>\n",
       "    <tr>\n",
       "      <th>12</th>\n",
       "      <td>Swap</td>\n",
       "      <td>Derivative</td>\n",
       "    </tr>\n",
       "    <tr>\n",
       "      <th>13</th>\n",
       "      <td>Swaption</td>\n",
       "      <td>Derivative</td>\n",
       "    </tr>\n",
       "  </tbody>\n",
       "</table>\n",
       "</div>"
      ],
      "text/plain": [
       "   AssetCategory ModelCategory\n",
       "0            MBS          Bond\n",
       "1        Vorkauf          Bond\n",
       "2     Government          Bond\n",
       "3      Corporate          Bond\n",
       "4   Municipality          Bond\n",
       "5            MNC          Bond\n",
       "6    Superstate           Bond\n",
       "7         Equity        Equity\n",
       "8            ABS        Equity\n",
       "9     Immobilien        Equity\n",
       "10         REITS        Equity\n",
       "11           DAX        Equity\n",
       "12          Swap    Derivative\n",
       "13      Swaption    Derivative"
      ]
     },
     "execution_count": 11,
     "metadata": {},
     "output_type": "execute_result"
    }
   ],
   "source": [
    "mapping=pd.read_excel(\"Data.xlsx\",sheet_name=\"mapping\")\n",
    "mapping"
   ]
  },
  {
   "cell_type": "markdown",
   "metadata": {},
   "source": [
    "# 2. Find out the mismatches"
   ]
  },
  {
   "cell_type": "markdown",
   "metadata": {},
   "source": [
    "Create a dictionary named \"observed_mapping\" to denote the observed mapping between \"AssetCategory\" and \"ModelCategory\" in the implementation dataset \"assets\".  In the dictionary \"observed_mapping\", the key denotes the \"Security_ID\", whereas the value, which is a tuple, denotes the observed mapping between \"AssetCategory\" and \"ModelCategory\" for this \"Security_ID\"."
   ]
  },
  {
   "cell_type": "code",
   "execution_count": 12,
   "metadata": {},
   "outputs": [],
   "source": [
    "observed_mapping={x:(y,z) for x, y, z in zip(assets.Security_ID,assets.AssetCategory,assets.ModelCategory)}\n"
   ]
  },
  {
   "cell_type": "markdown",
   "metadata": {},
   "source": [
    "Create a dictionary named \"prescribed_mapping\" to denote the precribed mapping rules between \"AssetCategory\" and \"ModelCategory\" in the dataset \"mapping\"."
   ]
  },
  {
   "cell_type": "code",
   "execution_count": 13,
   "metadata": {},
   "outputs": [
    {
     "data": {
      "text/plain": [
       "{'MBS': 'Bond',\n",
       " 'Vorkauf': 'Bond',\n",
       " 'Government': 'Bond',\n",
       " 'Corporate': 'Bond',\n",
       " 'Municipality': 'Bond',\n",
       " 'MNC': 'Bond',\n",
       " 'Superstate ': 'Bond',\n",
       " 'Equity': 'Equity',\n",
       " 'ABS': 'Equity',\n",
       " 'Immobilien': 'Equity',\n",
       " 'REITS': 'Equity',\n",
       " 'DAX': 'Equity',\n",
       " 'Swap': 'Derivative',\n",
       " 'Swaption': 'Derivative'}"
      ]
     },
     "execution_count": 13,
     "metadata": {},
     "output_type": "execute_result"
    }
   ],
   "source": [
    "prescribed_mapping = dict(zip(mapping.AssetCategory, mapping.ModelCategory))\n",
    "prescribed_mapping"
   ]
  },
  {
   "cell_type": "markdown",
   "metadata": {},
   "source": [
    "Find the mismatch pairs of asset category and model category in the implementation dataset \"assets\" in comparison to the prescribed mapping rules in the dataset \"mapping\"."
   ]
  },
  {
   "cell_type": "code",
   "execution_count": 14,
   "metadata": {},
   "outputs": [
    {
     "data": {
      "text/plain": [
       "[('Vorkauf', 'Derivative'),\n",
       " ('Immobilien', 'Bond'),\n",
       " ('Municipality', 'Equity'),\n",
       " ('Swap', 'Bond'),\n",
       " ('Government', 'Equity'),\n",
       " ('ABS', 'Bond'),\n",
       " ('Municipality', 'Equity')]"
      ]
     },
     "execution_count": 14,
     "metadata": {},
     "output_type": "execute_result"
    }
   ],
   "source": [
    "mismatch_pair=[v for k,v in observed_mapping.items() if  v not in prescribed_mapping.items()]\n",
    "mismatch_pair"
   ]
  },
  {
   "cell_type": "markdown",
   "metadata": {},
   "source": [
    "Find the Security_ID, for which the asset category is not mapped correctly to the model category in the implementation dataset \"assets\" in comparison to the prescribed mapping rules in the dataset \"mapping\"."
   ]
  },
  {
   "cell_type": "code",
   "execution_count": 15,
   "metadata": {},
   "outputs": [
    {
     "data": {
      "text/plain": [
       "['a58', 'a66', 'b117', 'c380', 'c468', 'c558', 'e1136']"
      ]
     },
     "execution_count": 15,
     "metadata": {},
     "output_type": "execute_result"
    }
   ],
   "source": [
    "mismatch_security=[k for k,v in observed_mapping.items() if  v not in prescribed_mapping.items() ]\n",
    "mismatch_security"
   ]
  }
 ],
 "metadata": {
  "interpreter": {
   "hash": "2135365e00268d88a4b03724af96ae81d2794529707330a155d42a3708962de8"
  },
  "kernelspec": {
   "display_name": "Python 3.7.11 ('base')",
   "language": "python",
   "name": "python3"
  },
  "language_info": {
   "codemirror_mode": {
    "name": "ipython",
    "version": 3
   },
   "file_extension": ".py",
   "mimetype": "text/x-python",
   "name": "python",
   "nbconvert_exporter": "python",
   "pygments_lexer": "ipython3",
   "version": "3.7.11"
  },
  "orig_nbformat": 4
 },
 "nbformat": 4,
 "nbformat_minor": 2
}
